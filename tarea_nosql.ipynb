{
 "cells": [
  {
   "cell_type": "code",
   "execution_count": 2,
   "metadata": {},
   "outputs": [],
   "source": [
    "import pymongo"
   ]
  },
  {
   "cell_type": "markdown",
   "metadata": {},
   "source": [
    "RETO 1 – CARGA Y EXPLORACIÓN \n",
    "1. Revisa los ficheros adjuntos de la actividad y la documentación \n",
    "correspondiente de cada fichero. \n",
    "2. Realiza una exploración de los ficheros utilizando MongoDB como motor de \n",
    "base de datos. Para ello: \n",
    "a. Carga los datos en la BD (utiliza los ficheros CSV o JSON) \n",
    "b. Revisa los campos y comprueba la calidad de los datos en cada uno de \n",
    "los ficheros. \n",
    "c. Encuentra un campo que permita relacionar los ficheros entre sí. "
   ]
  },
  {
   "cell_type": "markdown",
   "metadata": {},
   "source": [
    "Apartado A\n",
    "\n",
    "Insertar los ficheros en cada uno de las colecciones"
   ]
  },
  {
   "cell_type": "code",
   "execution_count": 8,
   "metadata": {},
   "outputs": [
    {
     "ename": "TypeError",
     "evalue": "'Collection' object is not callable. If you meant to call the 'stats' method on a 'Collection' object it is failing because no such method exists.",
     "output_type": "error",
     "traceback": [
      "\u001b[1;31m---------------------------------------------------------------------------\u001b[0m",
      "\u001b[1;31mTypeError\u001b[0m                                 Traceback (most recent call last)",
      "Cell \u001b[1;32mIn[8], line 8\u001b[0m\n\u001b[0;32m      6\u001b[0m mycol_locales \u001b[38;5;241m=\u001b[39m mydb[\u001b[38;5;124m\"\u001b[39m\u001b[38;5;124mlocales\u001b[39m\u001b[38;5;124m\"\u001b[39m]\n\u001b[0;32m      7\u001b[0m mycol_terrazas \u001b[38;5;241m=\u001b[39m mydb[\u001b[38;5;124m\"\u001b[39m\u001b[38;5;124mterrazas\u001b[39m\u001b[38;5;124m\"\u001b[39m]\n\u001b[1;32m----> 8\u001b[0m \u001b[43mmycol_terrazas\u001b[49m\u001b[38;5;241;43m.\u001b[39;49m\u001b[43mstats\u001b[49m\u001b[43m(\u001b[49m\u001b[43m)\u001b[49m\n",
      "File \u001b[1;32m~\\AppData\\Local\\Packages\\PythonSoftwareFoundation.Python.3.11_qbz5n2kfra8p0\\LocalCache\\local-packages\\Python311\\site-packages\\pymongo\\collection.py:3507\u001b[0m, in \u001b[0;36mCollection.__call__\u001b[1;34m(self, *args, **kwargs)\u001b[0m\n\u001b[0;32m   3500\u001b[0m \u001b[38;5;28;01mif\u001b[39;00m \u001b[38;5;124m\"\u001b[39m\u001b[38;5;124m.\u001b[39m\u001b[38;5;124m\"\u001b[39m \u001b[38;5;129;01mnot\u001b[39;00m \u001b[38;5;129;01min\u001b[39;00m \u001b[38;5;28mself\u001b[39m\u001b[38;5;241m.\u001b[39m__name:\n\u001b[0;32m   3501\u001b[0m     \u001b[38;5;28;01mraise\u001b[39;00m \u001b[38;5;167;01mTypeError\u001b[39;00m(\n\u001b[0;32m   3502\u001b[0m         \u001b[38;5;124m\"\u001b[39m\u001b[38;5;124m'\u001b[39m\u001b[38;5;124mCollection\u001b[39m\u001b[38;5;124m'\u001b[39m\u001b[38;5;124m object is not callable. If you \u001b[39m\u001b[38;5;124m\"\u001b[39m\n\u001b[0;32m   3503\u001b[0m         \u001b[38;5;124m\"\u001b[39m\u001b[38;5;124mmeant to call the \u001b[39m\u001b[38;5;124m'\u001b[39m\u001b[38;5;132;01m%s\u001b[39;00m\u001b[38;5;124m'\u001b[39m\u001b[38;5;124m method on a \u001b[39m\u001b[38;5;124m'\u001b[39m\u001b[38;5;124mDatabase\u001b[39m\u001b[38;5;124m'\u001b[39m\u001b[38;5;124m \u001b[39m\u001b[38;5;124m\"\u001b[39m\n\u001b[0;32m   3504\u001b[0m         \u001b[38;5;124m\"\u001b[39m\u001b[38;5;124mobject it is failing because no such method \u001b[39m\u001b[38;5;124m\"\u001b[39m\n\u001b[0;32m   3505\u001b[0m         \u001b[38;5;124m\"\u001b[39m\u001b[38;5;124mexists.\u001b[39m\u001b[38;5;124m\"\u001b[39m \u001b[38;5;241m%\u001b[39m \u001b[38;5;28mself\u001b[39m\u001b[38;5;241m.\u001b[39m__name\n\u001b[0;32m   3506\u001b[0m     )\n\u001b[1;32m-> 3507\u001b[0m \u001b[38;5;28;01mraise\u001b[39;00m \u001b[38;5;167;01mTypeError\u001b[39;00m(\n\u001b[0;32m   3508\u001b[0m     \u001b[38;5;124m\"\u001b[39m\u001b[38;5;124m'\u001b[39m\u001b[38;5;124mCollection\u001b[39m\u001b[38;5;124m'\u001b[39m\u001b[38;5;124m object is not callable. If you meant to \u001b[39m\u001b[38;5;124m\"\u001b[39m\n\u001b[0;32m   3509\u001b[0m     \u001b[38;5;124m\"\u001b[39m\u001b[38;5;124mcall the \u001b[39m\u001b[38;5;124m'\u001b[39m\u001b[38;5;132;01m%s\u001b[39;00m\u001b[38;5;124m'\u001b[39m\u001b[38;5;124m method on a \u001b[39m\u001b[38;5;124m'\u001b[39m\u001b[38;5;124mCollection\u001b[39m\u001b[38;5;124m'\u001b[39m\u001b[38;5;124m object it is \u001b[39m\u001b[38;5;124m\"\u001b[39m\n\u001b[0;32m   3510\u001b[0m     \u001b[38;5;124m\"\u001b[39m\u001b[38;5;124mfailing because no such method exists.\u001b[39m\u001b[38;5;124m\"\u001b[39m \u001b[38;5;241m%\u001b[39m \u001b[38;5;28mself\u001b[39m\u001b[38;5;241m.\u001b[39m__name\u001b[38;5;241m.\u001b[39msplit(\u001b[38;5;124m\"\u001b[39m\u001b[38;5;124m.\u001b[39m\u001b[38;5;124m\"\u001b[39m)[\u001b[38;5;241m-\u001b[39m\u001b[38;5;241m1\u001b[39m]\n\u001b[0;32m   3511\u001b[0m )\n",
      "\u001b[1;31mTypeError\u001b[0m: 'Collection' object is not callable. If you meant to call the 'stats' method on a 'Collection' object it is failing because no such method exists."
     ]
    }
   ],
   "source": [
    "myclient = pymongo.MongoClient(\"mongodb://localhost:27017/\")\n",
    "mydb = myclient[\"tarea_nosql\"]\n",
    "mycol_economica = mydb[\"actividad_economica\"]\n",
    "mycol_licencias = mydb[\"licencias\"]\n",
    "mycol_locales = mydb[\"locales\"]\n",
    "mycol_terrazas = mydb[\"terrazas\"]"
   ]
  },
  {
   "cell_type": "markdown",
   "metadata": {},
   "source": [
    "Apartado B\n",
    "\n",
    "compruebo la calidad de la coleccion actividad economica"
   ]
  },
  {
   "cell_type": "code",
   "execution_count": 13,
   "metadata": {},
   "outputs": [
    {
     "name": "stdout",
     "output_type": "stream",
     "text": [
      "{'_id': ObjectId('65be21ba17e71cd85abd3344'), 'id_local': 270574777, 'id_distrito_local': 20, 'desc_distrito_local': 'SAN BLAS-CANILLEJAS ', 'id_barrio_local': 2004, 'desc_barrio_local': 'ARCOS               ', 'cod_barrio_local': 4, 'id_seccion_censal_local': 20044, 'desc_seccion_censal_local': 44, 'coordenada_x_local': 0, 'coordenada_y_local': 0, 'id_tipo_acceso_local': 12, 'desc_tipo_acceso_local': 'PC Asociado', 'id_situacion_local': 1, 'desc_situacion_local': 'Abierto', 'id_vial_edificio': 67900, 'clase_vial_edificio': 'CALLE                   ', 'desc_vial_edificio': 'ARCOS DE JALON                                    ', 'id_ndp_edificio': 31026116, 'id_clase_ndp_edificio': 1, 'nom_edificio': 'NUM', 'num_edificio': 34, 'cal_edificio': '  ', 'secuencial_local_PC': 10, 'id_vial_acceso': 67900, 'clase_vial_acceso': 'CALLE                   ', 'desc_vial_acceso': 'ARCOS DE JALON                                    ', 'id_ndp_acceso': 31026116, 'id_clase_ndp_acceso': 1, 'nom_acceso': 'NUM', 'num_acceso': 34, 'cal_acceso': '  ', 'id_agrupacion': -1, 'nombre_agrupacion': 'SIN AGRUPACION', 'id_tipo_agrup': -1, 'desc_tipo_agrup': 'SIN AGRUPACION', 'id_planta_agrupado': 'PB', 'id_local_agrupado': '', 'rotulo': 'CAMPAMENTO DE VERANO CEIP MARIA MOLINER', 'id_seccion': 'P', 'desc_seccion': 'EDUCACIÓN', 'id_division': '85', 'desc_division': 'EDUCACIÓN', 'id_epigrafe': '855002', 'desc_epigrafe': 'ENSEÑANZA NO REGLADA (DEPORTIVA Y RECREATIVA, CULTURAL, CLASES DE RECUPERACION, INFORMATICA)', 'fx_carga': '2023-12-08T07:00:45', 'fx_datos_ini': '2023-12-01', 'fx_datos_fin': '2023-12-01'}\n",
      "{'_id': ObjectId('65be21f817e71cd85abfc99c'), 'id_local': 270366725, 'id_distrito_local': 7, 'desc_distrito_local': 'CHAMBERI            ', 'id_barrio_local': 704, 'desc_barrio_local': 'ALMAGRO             ', 'cod_barrio_local': 4, 'id_seccion_censal_local': 7092, 'desc_seccion_censal_local': 92, 'coordenada_x_local': 441214.59, 'coordenada_y_local': 4476496.52, 'id_tipo_acceso_local': 1, 'desc_tipo_acceso_local': 'Puerta Calle', 'id_situacion_local': 1, 'desc_situacion_local': 'Abierto', 'id_ndp_edificio': 11041540, 'id_clase_ndp_edificio': 1, 'id_vial_edificio': 807000, 'clase_vial_edificio': 'CALLE                   ', 'desc_vial_edificio': 'ZURBANO                                           ', 'nom_edificio': 'NUM', 'num_edificio': 69, 'cal_edificio': '  ', 'secuencial_local_PC': 10, 'id_ndp_acceso': 11041540, 'id_clase_ndp_acceso': 1, 'id_vial_acceso': 807000, 'clase_vial_acceso': 'CALLE                   ', 'desc_vial_acceso': 'ZURBANO                                           ', 'nom_acceso': 'NUM', 'num_acceso': 69, 'cal_acceso': '  ', 'id_agrupacion': -1, 'nombre_agrupacion': 'SIN AGRUPACION', 'id_tipo_agrup': -1, 'desc_tipo_agrup': 'SIN AGRUPACION', 'id_planta_agrupado': 'PB', 'id_local_agrupado': '01', 'rotulo': 'CAFE PLATINA                                      ', 'ref_licencia': '350/2023/26343', 'id_tipo_licencia': 4, 'desc_tipo_licencia': 'Transmisión de licencia Urbanística', 'id_tipo_situacion_licencia': '05', 'desc_tipo_situacion_licencia': 'Transmisión de Licencia Concedida', 'Fecha_Dec_Lic': '01/01/1900', 'fx_carga': '2023-12-08T07:00:33', 'fx_datos_ini': '2023-12-01', 'fx_datos_fin': '2023-12-01'}\n",
      "{'_id': ObjectId('65be225717e71cd85ac216ca'), 'id_local': 20000596, 'id_distrito_local': 2, 'desc_distrito_local': 'ARGANZUELA          ', 'id_barrio_local': 203, 'desc_barrio_local': 'CHOPERA             ', 'cod_barrio_local': 3, 'id_seccion_censal_local': 2043, 'desc_seccion_censal_local': 43, 'coordenada_x_local': 440788.58, 'coordenada_y_local': 4471857.52, 'id_tipo_acceso_local': 1, 'desc_tipo_acceso_local': 'Puerta Calle', 'id_situacion_local': 1, 'desc_situacion_local': 'Abierto', 'id_vial_edificio': 744250, 'clase_vial_edificio': 'CALLE                   ', 'desc_vial_edificio': 'TOMAS BORRAS                                      ', 'id_ndp_edificio': 11008969, 'id_clase_ndp_edificio': 1, 'nom_edificio': 'NUM', 'num_edificio': 12, 'cal_edificio': '  ', 'secuencial_local_PC': 20, 'id_vial_acceso': 744250, 'clase_vial_acceso': 'CALLE                   ', 'desc_vial_acceso': 'TOMAS BORRAS                                      ', 'id_ndp_acceso': 11008969, 'id_clase_ndp_acceso': 1, 'nom_acceso': 'NUM', 'num_acceso': 12, 'cal_acceso': '  ', 'id_agrupacion': -1, 'nombre_agrupacion': 'SIN AGRUPACION', 'id_tipo_agrup': -1, 'desc_tipo_agrup': 'SIN AGRUPACION', 'id_planta_agrupado': 'PB', 'id_local_agrupado': 'D1', 'rotulo': 'LA CAÑA', 'cod_postal': '28045', 'hora_apertura1': '09:00', 'hora_cierre2': '22:00', 'fx_carga': '2023-12-08T07:01:00', 'fx_datos_ini': '2023-12-01', 'fx_datos_fin': '2023-12-01'}\n",
      "{'_id': ObjectId('65be22c517e71cd85ac46545'), 'id_terraza': 33, 'id_local': 270403150, 'id_distrito_local': 4, 'desc_distrito_local': 'SALAMANCA           ', 'id_barrio_local': 404, 'desc_barrio_local': 'GUINDALERA          ', 'id_ndp_edificio': 11018870, 'id_clase_ndp_edificio': 1, 'id_vial_edificio': 42500, 'clase_vial_edificio': 'AVENIDA                 ', 'desc_vial_edificio': 'AMERICA                                           ', 'nom_edificio': 'NUM', 'num_edificio': 2, 'Cod_Postal': 28028, 'coordenada_x_local': 442586.58, 'coordenada_y_local': 4476524.51, 'id_tipo_acceso_local': 1, 'desc_tipo_acceso_local': 'Puerta Calle', 'id_situacion_local': 1, 'desc_situacion_local': 'Abierto', 'secuencial_local_PC': 30, 'Escalera': '', 'id_planta_agrupado': 'PB', 'id_local_agrupado': '01', 'rotulo': 'VIPS', 'id_periodo_terraza': 1, 'desc_periodo_terraza': 'Anual', 'id_situacion_terraza': 1, 'desc_situacion_terraza': 'Abierta', 'Superficie_ES': 21.06, 'Superficie_RA': 16.2, 'Fecha_confir_ult_decreto_resol': '04/04/2014', 'id_ndp_terraza': 11018870, 'id_clase_ndp_terraza': 1, 'id_vial': 42500, 'desc_clase': 'AVENIDA                 ', 'desc_nombre': 'AMERICA                                           ', 'nom_terraza': 'NUM', 'num_terraza': 2, 'cal_terraza': '  ', 'desc_ubicacion_terraza': 'Acera', 'hora_ini_LJ_es': '10:00:00', 'hora_fin_LJ_es': '01:00:00', 'hora_ini_LJ_ra': '10:00:00', 'hora_fin_LJ_ra': '00:00:00', 'hora_ini_VS_es': '10:00:00', 'hora_fin_VS_es': '02:30:00', 'hora_ini_VS_ra': '10:00:00', 'hora_fin_VS_ra': '00:00:00', 'mesas_aux_es': 0, 'mesas_aux_ra': 0, 'mesas_es': 9, 'mesas_ra': 9, 'sillas_es': 27, 'sillas_ra': 27, 'cal_edificio': '  ', 'fx_carga': '2023-12-08T07:00:49', 'fx_datos_ini': '2023-12-01', 'fx_datos_fin': '2023-12-01'}\n"
     ]
    }
   ],
   "source": [
    "x = mycol_economica.find_one({\"id_local\" : 20})\n",
    "e = mycol_licencias.find_one({\"id_local\" : 7})\n",
    "y = mycol_locales.find_one({\"id_local\" : 2})\n",
    "o = mycol_terrazas.find_one({\"id_local\" : 270403150})"
   ]
  },
  {
   "cell_type": "markdown",
   "metadata": {},
   "source": [
    "Validar los datos de las colecciones"
   ]
  },
  {
   "cell_type": "code",
   "execution_count": null,
   "metadata": {},
   "outputs": [],
   "source": [
    "mydb.command(\"validate\", \"actividad_economica\")\n",
    "mydb.command(\"validate\", \"licencias\")\n",
    "mydb.command(\"validate\", \"locales\")\n",
    "mydb.command(\"validate\", \"terrazas\")"
   ]
  },
  {
   "cell_type": "markdown",
   "metadata": {},
   "source": [
    "Apartado C\n",
    "El campo que permite relcionar entre colecciones es el id_local"
   ]
  },
  {
   "cell_type": "markdown",
   "metadata": {},
   "source": [
    "RETO 2 – MODELADO DE DATOS \n",
    "Después de explorar todos los ficheros y tener clara su estructura, resuelve los \n",
    "siguientes tareas. \n",
    "Modelo de datos (versión 1) \n",
    "1. Propón un modelo de datos basado en documentos que permita almacenar la \n",
    "información de los ficheros y consultarla posteriormente. Este modelo \n",
    "propuesto puede seguir un patrón de datos visto en este curso (embebidos, \n",
    "referenciados o jerárquicos). \n",
    "a. Crea una base de datos en MongoDB y almacena los ficheros siguiendo \n",
    "tu modelo de datos. \n",
    "2. Para mostrar la eficiencia de tu modelo de datos, construye y ejecuta las \n",
    "siguientes consultas. \n",
    "a. El total de Locales y Terrazas por Distrito y Barrio. \n",
    "b. Tipos de licencias y cantidad de licencias por cada tipo.  \n",
    "c. Listado de locales y terrazas con licencias “En trámite”. \n",
    "d. Consulta por sección, división y epígrafe de la actividad comercial de \n",
    "locales y terrazas. \n",
    "e. Consultar la actividad económica más frecuente por barrio y distrito. \n",
    "f. Actualiza los horarios de apertura y cierra de “ciertos” locales \n",
    "siguiendo un criterio que tú elijas (explica bien dicho criterio en el \n",
    "informe final). "
   ]
  },
  {
   "cell_type": "markdown",
   "metadata": {},
   "source": [
    "Modelo de datos (Versión 1)\n"
   ]
  },
  {
   "cell_type": "markdown",
   "metadata": {},
   "source": [
    "Crear el indice"
   ]
  },
  {
   "cell_type": "code",
   "execution_count": 5,
   "metadata": {},
   "outputs": [],
   "source": [
    "pipeline = [\n",
    "  {\"$lookup\": {\n",
    "    \"from\": \"actividad_economica\",\n",
    "    \"localField\": \"id_local\",\n",
    "    \"foreignField\": \"id_local\",\n",
    "    \"as\": \"actividad_economica\"\n",
    "  }},\n",
    "  {\"$lookup\": {\n",
    "    \"from\": \"licencias\",\n",
    "    \"localField\": \"id_local\",\n",
    "    \"foreignField\": \"id_local\",\n",
    "    \"as\": \"licencias\"\n",
    "  }},\n",
    "  {\"$lookup\": {\n",
    "    \"from\": \"terrazas\",\n",
    "    \"localField\": \"id_local\",\n",
    "    \"foreignField\": \"id_local\",\n",
    "    \"as\": \"terrazas\"\n",
    "  }},\n",
    "  {\"$out\": \"locales_embebidos\"}\n",
    "]\n",
    "mycol_locales.aggregate(pipeline)"
   ]
  },
  {
   "cell_type": "markdown",
   "metadata": {},
   "source": [
    "a. El total de Locales y Terrazas por Distrito y Barrio."
   ]
  },
  {
   "cell_type": "code",
   "execution_count": null,
   "metadata": {},
   "outputs": [],
   "source": [
    "mycol_locales_embebido = mydb[\"locales_embebidos\"]"
   ]
  },
  {
   "cell_type": "code",
   "execution_count": null,
   "metadata": {},
   "outputs": [],
   "source": [
    "resultado = mycol_locales_embebido.aggregate([\n",
    "    {\"$group\": {\n",
    "        \"_id\": {\n",
    "            \"distrito\": \"$desc_distrito_local\", \"barrio\": \"$desc_barrio_local\"\n",
    "            },\n",
    "        \"total_locales\": {\n",
    "            \"$sum\": 1\n",
    "            },\n",
    "        \"total_terrazas\": \n",
    "        {\"$sum\": \n",
    "         {\"$size\": \"$terrazas\"}\n",
    "        }\n",
    "    }}\n",
    "])\n",
    "\n",
    "\n",
    "for grupo in resultado:\n",
    "    print(grupo)"
   ]
  },
  {
   "cell_type": "markdown",
   "metadata": {},
   "source": [
    "b. Tipos de licencias y cantidad de licencias por cada tipo."
   ]
  },
  {
   "cell_type": "code",
   "execution_count": 19,
   "metadata": {},
   "outputs": [
    {
     "data": {
      "text/plain": [
       "['ARGANZUELA          ',\n",
       " 'BARAJAS             ',\n",
       " 'CARABANCHEL         ',\n",
       " 'CENTRO              ',\n",
       " 'CHAMARTIN           ',\n",
       " 'CHAMBERI            ',\n",
       " 'CIUDAD LINEAL       ',\n",
       " 'FUENCARRAL-EL PARDO ',\n",
       " 'HORTALEZA           ',\n",
       " 'LATINA              ',\n",
       " 'MONCLOA-ARAVACA     ',\n",
       " 'MORATALAZ           ',\n",
       " 'PUENTE DE VALLECAS  ',\n",
       " 'RETIRO              ',\n",
       " 'SALAMANCA           ',\n",
       " 'SAN BLAS-CANILLEJAS ',\n",
       " 'TETUAN              ',\n",
       " 'USERA               ',\n",
       " 'VICALVARO           ',\n",
       " 'VILLA DE VALLECAS   ',\n",
       " 'VILLAVERDE          ']"
      ]
     },
     "execution_count": 19,
     "metadata": {},
     "output_type": "execute_result"
    }
   ],
   "source": [
    "resultado = mycol_locales_embebido.aggregate([{\"$unwind\": \"$licencias\"},{\"$group\":\n",
    "                                               {\"_id\": \"$licencias.desc_tipo_licencia\", \"total\": {\"$sum\" : 1}\n",
    "                                                }}])\n",
    "for grupo in resultado:\n",
    "    print(grupo)"
   ]
  },
  {
   "cell_type": "markdown",
   "metadata": {},
   "source": [
    "c. Listado de locales y terrazas con licencias “En trámite”. "
   ]
  },
  {
   "cell_type": "code",
   "execution_count": null,
   "metadata": {},
   "outputs": [],
   "source": [
    "resultado = mycol_locales_embebido.find({\"licencias\": {\"$elemMatch\": {\"desc_tipo_situacion_licencia\": \"En tramitación\"}}})\n",
    "\n",
    "for grupo in resultado:\n",
    "    print(grupo)"
   ]
  },
  {
   "cell_type": "markdown",
   "metadata": {},
   "source": [
    "d. Consulta por sección, división y epígrafe de la actividad comercial de \n",
    "locales y terrazas. "
   ]
  },
  {
   "cell_type": "code",
   "execution_count": null,
   "metadata": {},
   "outputs": [],
   "source": [
    "resultado = mycol_locales_embebido.aggregate([\n",
    "    {\"$unwind\": \"$actividad_economica\"},\n",
    "    {\"$group\": {\n",
    "        \"_id\": {\n",
    "            \"seccion\": \"$actividad_economica.desc_seccion\",\n",
    "            \"division\": \"$actividad_economica.desc_division\",\n",
    "            \"epigrafe\": \"$actividad_economica.desc_epigrafe\"\n",
    "        },\n",
    "        \"total_locales\": {\"$sum\": 1},\n",
    "        \"total_terrazas\": {\"$sum\": {\"$size\": \"$terrazas\"}}\n",
    "    }}\n",
    "])\n",
    "\n",
    "for grupo in resultado:\n",
    "    print(grupo)"
   ]
  },
  {
   "cell_type": "markdown",
   "metadata": {},
   "source": [
    "e. Consultar la actividad económica más frecuente por barrio y distrito. "
   ]
  },
  {
   "cell_type": "code",
   "execution_count": null,
   "metadata": {},
   "outputs": [],
   "source": [
    "resultado = mycol_locales_embebido.aggregate([\n",
    "    {\"$unwind\": \"$actividad_economica\"},\n",
    "    {\"$group\": {\n",
    "        \"_id\": {\n",
    "            \"distrito\": \"$desc_distrito_local\",\n",
    "            \"barrio\": \"$desc_barrio_local\",\n",
    "            \"actividad\": \"$actividad_economica.desc_epigrafe\"\n",
    "        },\n",
    "        \"count\": {\"$sum\": 1}\n",
    "    }},\n",
    "    {\"$sort\": {\"count\": -1}},\n",
    "    {\"$group\": {\n",
    "        \"_id\": {\n",
    "            \"distrito\": \"$_id.distrito\",\n",
    "            \"barrio\": \"$_id.barrio\"\n",
    "        },\n",
    "        \"actividad_mas_frecuente\": {\"$first\": \"$_id.actividad\"},\n",
    "        \"count\": {\"$first\": \"$count\"}\n",
    "    }}\n",
    "])\n",
    "\n",
    "for grupo in resultado:\n",
    "    print(grupo)"
   ]
  },
  {
   "cell_type": "markdown",
   "metadata": {},
   "source": [
    "f. Actualiza los horarios de apertura y cierra de “ciertos” locales \n",
    "siguiendo un criterio que tú elijas (explica bien dicho criterio en el \n",
    "informe final). "
   ]
  },
  {
   "cell_type": "code",
   "execution_count": null,
   "metadata": {},
   "outputs": [],
   "source": [
    "mycol_locales_embebido.update_many(\n",
    "    {\"hora_apertura1\": {\"$lt\": \"08:00\"}},\n",
    "    {\"$set\": {\"hora_apertura1\": \"08:00\"}}\n",
    ")"
   ]
  },
  {
   "cell_type": "markdown",
   "metadata": {},
   "source": [
    "Modelo de datos (versión 2) "
   ]
  },
  {
   "cell_type": "markdown",
   "metadata": {},
   "source": [
    "3. Ahora que ya cuentas con un modelo de datos sobre la actividad económica de \n",
    "Locales y Terrazas en la ciudad de Madrid, vamos a necesitar conocer la \n",
    "actividad relacionada con los alojamientos de los distintos barrios de esta \n",
    "misma ciudad. Para incluir esta información, debes realizar lo siguiente: \n",
    "a. Revisa la siguiente URL y localiza información sobre los alojamientos \n",
    "de Airbnb http://insideairbnb.com/new-york-city/ de la ciudad de \n",
    "Madrid. \n",
    "b. Debes encontrar un dataset y cargar dicha información en la base de \n",
    "datos donde alojas tu modelo de datos. \n",
    "c. Asocia la información de alojamientos con la actividad comercial, \n",
    "propón algún tipo de mejora de tu modelo de datos para contemplar la \n",
    "nueva información."
   ]
  },
  {
   "cell_type": "code",
   "execution_count": null,
   "metadata": {},
   "outputs": [],
   "source": []
  }
 ],
 "metadata": {
  "kernelspec": {
   "display_name": "Python 3",
   "language": "python",
   "name": "python3"
  },
  "language_info": {
   "codemirror_mode": {
    "name": "ipython",
    "version": 3
   },
   "file_extension": ".py",
   "mimetype": "text/x-python",
   "name": "python",
   "nbconvert_exporter": "python",
   "pygments_lexer": "ipython3",
   "version": "3.11.8"
  }
 },
 "nbformat": 4,
 "nbformat_minor": 2
}
